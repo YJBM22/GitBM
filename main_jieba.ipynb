{
 "cells": [
  {
   "cell_type": "markdown",
   "id": "c2f266b2-6820-46f3-91ea-c151e754bb10",
   "metadata": {},
   "source": [
    "#结巴分词实践"
   ]
  },
  {
   "cell_type": "markdown",
   "id": "ceabf152-d71c-4f35-856b-a09da5d55945",
   "metadata": {},
   "source": [
    "##结巴分词的三种模式"
   ]
  },
  {
   "cell_type": "markdown",
   "id": "5aced64b-8d89-46cc-a1f9-7611223f6c39",
   "metadata": {},
   "source": [
    "###精确模式"
   ]
  },
  {
   "cell_type": "code",
   "execution_count": 2,
   "id": "8578d10c-7467-4604-8971-456f4f85aa8e",
   "metadata": {},
   "outputs": [
    {
     "name": "stderr",
     "output_type": "stream",
     "text": [
      "Building prefix dict from the default dictionary ...\n",
      "Dumping model to file cache C:\\Users\\23165\\AppData\\Local\\Temp\\jieba.cache\n",
      "Loading model cost 0.605 seconds.\n",
      "Prefix dict has been built successfully.\n"
     ]
    },
    {
     "name": "stdout",
     "output_type": "stream",
     "text": [
      "精确模式: 我/来到/北京/清华大学\n"
     ]
    }
   ],
   "source": [
    "import jieba\n",
    "\n",
    "seg_list = jieba.cut(\"我来到北京清华大学\", cut_all=False)\n",
    "print(\"精确模式: \" + \"/\".join(seg_list))"
   ]
  },
  {
   "cell_type": "markdown",
   "id": "9b701efe-ce62-44df-b6af-d9928eb59554",
   "metadata": {},
   "source": [
    "###全模式"
   ]
  },
  {
   "cell_type": "code",
   "execution_count": 4,
   "id": "0a2c3c4e-e6b4-4a02-b47e-05a8aed00429",
   "metadata": {
    "scrolled": true
   },
   "outputs": [
    {
     "name": "stdout",
     "output_type": "stream",
     "text": [
      "全模式: 我/来到/北京/清华/清华大学/华大/大学\n"
     ]
    }
   ],
   "source": [
    "import jieba\n",
    "\n",
    "seg_list = jieba.cut(\"我来到北京清华大学\", cut_all=True)\n",
    "print(\"全模式: \" + \"/\".join(seg_list))"
   ]
  },
  {
   "cell_type": "markdown",
   "id": "f85fbda7-4fff-459b-8732-36d3681d1235",
   "metadata": {},
   "source": [
    "###搜索引擎模式"
   ]
  },
  {
   "cell_type": "code",
   "execution_count": 5,
   "id": "5d52995b-0539-48fc-92dc-e74da4cbc65b",
   "metadata": {},
   "outputs": [
    {
     "name": "stdout",
     "output_type": "stream",
     "text": [
      "搜索引擎模式: 小明, 硕士, 毕业, 于, 中国, 科学, 学院, 科学院, 中国科学院, 计算, 计算所, ，, 后, 在, 日本, 京都, 大学, 日本京都大学, 深造\n"
     ]
    }
   ],
   "source": [
    "import jieba\n",
    "\n",
    "seg_list = jieba.cut_for_search(\"小明硕士毕业于中国科学院计算所，后在日本京都大学深造\")\n",
    "print(\"搜索引擎模式: \" + \", \".join(seg_list))"
   ]
  },
  {
   "cell_type": "markdown",
   "id": "79dede3e-9dd4-4ab0-9188-89f0ba83007f",
   "metadata": {},
   "source": [
    "##载入词典"
   ]
  },
  {
   "cell_type": "code",
   "execution_count": 10,
   "id": "b28d0098-269c-48f5-a09a-49221878c2e0",
   "metadata": {},
   "outputs": [
    {
     "name": "stdout",
     "output_type": "stream",
     "text": [
      "分词结果: 梁志鸿/即将/是/自然语言/处理/方面/的/高手/。\n"
     ]
    }
   ],
   "source": [
    "import jieba\n",
    "\n",
    "# 加载自定义词典（确保路径正确）\n",
    "jieba.load_userdict(\"userdict.txt\")  # 如果文件在其他位置，如 \"./dicts/userdict.txt\"\n",
    "\n",
    "# 测试分词（HMM=False 关闭新词发现）\n",
    "sentence = \"梁志鸿即将是自然语言处理方面的高手。\"\n",
    "seg_list = jieba.cut(sentence, HMM=False)\n",
    "\n",
    "# 输出分词结果\n",
    "print(\"分词结果:\", \"/\".join(seg_list))"
   ]
  },
  {
   "cell_type": "code",
   "execution_count": 11,
   "id": "f2058d15-f966-40b8-a295-28532e5b7fb4",
   "metadata": {},
   "outputs": [
    {
     "name": "stdout",
     "output_type": "stream",
     "text": [
      "Top-5 关键词: ['重点', '大学', '国家', '河北省', '共建']\n"
     ]
    }
   ],
   "source": [
    "import jieba.analyse\n",
    "\n",
    "# 待分析的句子\n",
    "sentence = \"燕山大学是河北省人民政府、教育部、工业和信息化部、国家国防科技工业局四方共建的全国重点大学，河北省重点支持的国家一流大学和世界一流学科建设高校，北京高科大学联盟成员。\"\n",
    "\n",
    "# 使用 TextRank 提取 top-5 关键词\n",
    "keywords = jieba.analyse.textrank(\n",
    "    sentence, \n",
    "    topK=5,           # 提取前 5 个关键词\n",
    "    withWeight=False,  # 是否返回权重（False 只返回关键词）\n",
    "    allowPOS=('ns', 'n', 'vn', 'v')  # 允许的词性（地名、名词、动名词、动词）\n",
    ")\n",
    "\n",
    "# 输出结果\n",
    "print(\"Top-5 关键词:\", keywords)"
   ]
  },
  {
   "cell_type": "code",
   "execution_count": null,
   "id": "ce2c3408-9d7a-4804-a37c-46c7ba901226",
   "metadata": {},
   "outputs": [],
   "source": []
  }
 ],
 "metadata": {
  "kernelspec": {
   "display_name": "Python 3 (ipykernel)",
   "language": "python",
   "name": "python3"
  },
  "language_info": {
   "codemirror_mode": {
    "name": "ipython",
    "version": 3
   },
   "file_extension": ".py",
   "mimetype": "text/x-python",
   "name": "python",
   "nbconvert_exporter": "python",
   "pygments_lexer": "ipython3",
   "version": "3.9.21"
  }
 },
 "nbformat": 4,
 "nbformat_minor": 5
}
